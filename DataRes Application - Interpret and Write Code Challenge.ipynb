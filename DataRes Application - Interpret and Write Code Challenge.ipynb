{
 "cells": [
  {
   "cell_type": "markdown",
   "metadata": {},
   "source": [
    "# DataRes Research Team - Applied DL Question\n",
    "\n",
    "At Research@Datares, we teach Applied Deep Learning (ADL). \n",
    "In this notebook, you have the chance to show us you have all the skills it takes to be on our team. \n",
    "We value thoughts, ability, and innovation. Surprise us! :)\n",
    "\n",
    "## Set Up\n",
    "\n",
    "First of all, take a look at the cell below (DO NOT RUN IT)\n",
    "\n",
    "All it does is it runs a tensorboard instance that reflects a run on our AI Trader platform, which you can [check out on GitHub](https://github.com/datares/4castr)\n",
    "\n",
    "Then, take a look at [this article](https://medium.com/aureliantactics/understanding-ppo-plots-in-tensorboard-cbc3199b9ba2) which thoroughly explains the plots you see down below. \n",
    "\n",
    "Then scroll down to begin your challenge. \n"
   ]
  },
  {
   "cell_type": "code",
   "execution_count": 4,
   "metadata": {},
   "outputs": [
    {
     "name": "stdout",
     "output_type": "stream",
     "text": [
      "The tensorboard extension is already loaded. To reload it, use:\n",
      "  %reload_ext tensorboard\n"
     ]
    },
    {
     "data": {
      "text/plain": [
       "Reusing TensorBoard on port 6007 (pid 92236), started 0:36:36 ago. (Use '!kill 92236' to kill it.)"
      ]
     },
     "metadata": {},
     "output_type": "display_data"
    },
    {
     "data": {
      "text/html": [
       "\n",
       "        <iframe\n",
       "            width=\"100%\"\n",
       "            height=\"800\"\n",
       "            src=\"http://localhost:6007\"\n",
       "            frameborder=\"0\"\n",
       "            allowfullscreen\n",
       "        ></iframe>\n",
       "        "
      ],
      "text/plain": [
       "<IPython.lib.display.IFrame at 0x7ff1a4f4c910>"
      ]
     },
     "metadata": {},
     "output_type": "display_data"
    }
   ],
   "source": [
    "%load_ext tensorboard\n",
    "\n",
    "%tensorboard --logdir=./logs"
   ]
  },
  {
   "source": [
    "# Question 1 - What's happening to these models?\n",
    "\n",
    "First, let's start by taking a look at the episode_reward. \n",
    "What do you think is happening to the orange curve? How does it differ from the blue curve?\n",
    "Which one of those looks more healthy, and why?"
   ],
   "cell_type": "markdown",
   "metadata": {}
  },
  {
   "source": [
    "### Response 1\n",
    "\n",
    "Your response here"
   ],
   "cell_type": "markdown",
   "metadata": {}
  },
  {
   "source": [
    "# Question 2 - How would you go about changing what's happening?\n",
    "\n",
    "For this question, think outside of the box. Based on all the other plots, write an assertion as to how you think this model can be improved, making sure to refer the medium article that explains all PPO's hyperparameters. \n",
    "\n",
    "You can do whatever you want, from including code, to telling us why this will not work. \n",
    "Remember, you can check out the code for this log at [this link](https://github.com/datares/4castr)\n",
    "\n",
    "\n"
   ],
   "cell_type": "markdown",
   "metadata": {}
  },
  {
   "source": [
    "### Response 1\n",
    "\n",
    "Your response here"
   ],
   "cell_type": "markdown",
   "metadata": {}
  }
 ],
 "metadata": {
  "kernelspec": {
   "display_name": "Python 3.7.4 64-bit ('base': conda)",
   "language": "python",
   "name": "python37464bitbaseconda64bb7ca4d85b45ed97c3e37435f4846b"
  },
  "language_info": {
   "codemirror_mode": {
    "name": "ipython",
    "version": 3
   },
   "file_extension": ".py",
   "mimetype": "text/x-python",
   "name": "python",
   "nbconvert_exporter": "python",
   "pygments_lexer": "ipython3",
   "version": "3.7.4-final"
  }
 },
 "nbformat": 4,
 "nbformat_minor": 4
}